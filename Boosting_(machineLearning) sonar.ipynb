{
  "nbformat": 4,
  "nbformat_minor": 0,
  "metadata": {
    "colab": {
      "name": "Boosting-(machineLearning)sonar.ipynb",
      "provenance": [],
      "collapsed_sections": []
    },
    "kernelspec": {
      "name": "python3",
      "display_name": "Python 3"
    }
  },
  "cells": [
    {
      "cell_type": "markdown",
      "metadata": {
        "id": "4bt7KQcVN9M4"
      },
      "source": [
        "#Ensemble: RandomForest & Boosting\n",
        "\n",
        "Avalia a performance da classificação da base de dados sonar com os métodos de combinação de classificadores.\n",
        "\n",
        "Este notebook foi desenvolvido para o ambiente GOOGLE COLAB ([colab.research.google.com](https://colab.research.google.com)).\n",
        "\n",
        "Prof. Hugo de Paula\n",
        "\n",
        "-------------------------------------------------------------------------------\n",
        "\n",
        "### Base de dados: Sonar, Mines vs. Rocks\n",
        "\n",
        "https://archive.ics.uci.edu/ml/datasets/Connectionist+Bench+%28Sonar,+Mines+vs.+Rocks%29\n",
        "\n",
        "208 instâncias\n",
        "\n",
        "60 atributos\n",
        "\n",
        "2 classes (rocha, mina)\n"
      ]
    },
    {
      "cell_type": "code",
      "metadata": {
        "id": "-k9moDguNWFd"
      },
      "source": [
        "\n",
        "import pandas as pd\n",
        "from sklearn.model_selection import train_test_split\n",
        "from sklearn.metrics import confusion_matrix, classification_report\n",
        "from sklearn import tree\n",
        "from sklearn.ensemble import RandomForestClassifier\n",
        "from sklearn.ensemble import ExtraTreesClassifier\n",
        "from sklearn.ensemble import AdaBoostClassifier\n",
        "from sklearn.preprocessing import LabelEncoder"
      ],
      "execution_count": null,
      "outputs": []
    },
    {
      "cell_type": "markdown",
      "metadata": {
        "id": "QYuarmiP78jh"
      },
      "source": [
        "### Carga de dados\n",
        "\n",
        "90% da base para treinamento (187 registros)\n",
        "\n",
        "10% da base para teste (21 regisros)"
      ]
    },
    {
      "cell_type": "code",
      "metadata": {
        "id": "B0XAnHOWOROP"
      },
      "source": [
        "from google.colab import drive\n",
        "drive.mount('/content/drive')\n",
        "sonar = pd.read_excel('/content/drive/My Drive/PUC/ML/Datasets/sonar.xlsx', sheet_name=0)\n",
        "\n"
      ],
      "execution_count": null,
      "outputs": []
    },
    {
      "cell_type": "code",
      "metadata": {
        "id": "p7bWIAlmOi8R"
      },
      "source": [
        "X = sonar.iloc[:,0:(sonar.shape[1] - 1)]\n",
        "\n",
        "le = LabelEncoder()\n",
        "y = le.fit_transform(sonar.iloc[:,(sonar.shape[1] - 1)])\n",
        "\n",
        "class_names = le.classes_\n",
        "X_train, X_test, y_train, y_test = train_test_split(X, y, random_state=42, test_size=0.1)\n"
      ],
      "execution_count": null,
      "outputs": []
    },
    {
      "cell_type": "markdown",
      "metadata": {
        "id": "lMgaGnqk8gPi"
      },
      "source": [
        "### Árvore de decisão tradicional"
      ]
    },
    {
      "cell_type": "code",
      "metadata": {
        "id": "m863jQm8On2F"
      },
      "source": [
        "\n",
        "clf = tree.DecisionTreeClassifier()\n",
        "clf = clf.fit(X_train, y_train)\n",
        "y_pred = clf.predict(X_test)\n",
        "\n",
        "print(\"Classificador Árvore de Decisão:\\n\")\n",
        "print(\"--------------------------------------\")\n",
        "print(\"Acurácia da base de treinamento: {:.2f}\".format(clf.score(X_train, y_train)))\n",
        "print(\"--------------------------------------\")\n",
        "\n",
        "print(classification_report(y_test, y_pred, target_names=class_names))\n",
        "\n",
        "cnf_matrix = confusion_matrix(y_test, y_pred)\n",
        "cnf_table = pd.DataFrame(data=cnf_matrix, index=class_names, columns=[x + \"(prev)\" for x in class_names])\n",
        "print(cnf_table)\n"
      ],
      "execution_count": null,
      "outputs": []
    },
    {
      "cell_type": "markdown",
      "metadata": {
        "id": "5XLmDRs88ksC"
      },
      "source": [
        "### Random Forest e Extra Trees\n",
        "\n",
        "Número de estimadores: 10"
      ]
    },
    {
      "cell_type": "code",
      "metadata": {
        "id": "IX3ZhuD_RQ2z"
      },
      "source": [
        "# Random forest com 10 arvores\n",
        "\n",
        "clr = RandomForestClassifier(n_estimators=10)\n",
        "clr = clr.fit(X_train, y_train)\n",
        "y_pred = clr.predict(X_test)\n",
        "\n",
        "\n",
        "print(\"Classificador Random Forest:\\n RandomForestClassifier(n_estimators=10)\\n\")\n",
        "print(\"--------------------------------------\")\n",
        "print(\"Acurácia da base de treinamento: {:.2f}\".format(clr.score(X_train, y_train)))\n",
        "print(\"--------------------------------------\")\n",
        "\n",
        "print(classification_report(y_test, y_pred, target_names=class_names))\n",
        "\n",
        "cnf_matrix = confusion_matrix(y_test, y_pred)\n",
        "cnf_table = pd.DataFrame(data=cnf_matrix, index=class_names, columns=[x + \"(prev)\" for x in class_names])\n",
        "print(cnf_table)\n"
      ],
      "execution_count": null,
      "outputs": []
    },
    {
      "cell_type": "code",
      "metadata": {
        "id": "3lVsozPgSa5P"
      },
      "source": [
        "# Random forest com heurísticas extremas\n",
        "\n",
        "cle = ExtraTreesClassifier(n_estimators=10)\n",
        "cle = cle.fit(X_train, y_train)\n",
        "y_pred = cle.predict(X_test)\n",
        "\n",
        "print(\"Classificador Extreme Tree:\\n ExtraTreesClassifier(n_estimators=10)\\n\")\n",
        "print(\"--------------------------------------\")\n",
        "print(\"Acurácia da base de treinamento: {:.2f}\".format(cle.score(X_train, y_train)))\n",
        "print(\"--------------------------------------\")\n",
        "\n",
        "print(classification_report(y_test, y_pred, target_names=class_names))\n",
        "\n",
        "cnf_matrix = confusion_matrix(y_test, y_pred)\n",
        "cnf_table = pd.DataFrame(data=cnf_matrix, index=class_names, columns=[x + \"(prev)\" for x in class_names])\n",
        "print(cnf_table)\n"
      ],
      "execution_count": null,
      "outputs": []
    },
    {
      "cell_type": "markdown",
      "metadata": {
        "id": "CuVp3son-vKJ"
      },
      "source": [
        "### AdaBoost\n",
        "\n",
        "Estimador: DecisionTreeClassifier\n",
        "\n",
        "Número de estimadores: 10.\n",
        "\n",
        "Perceba o overfitting na base de treinamento.\n"
      ]
    },
    {
      "cell_type": "code",
      "metadata": {
        "id": "CvQQORkwZdZe",
        "colab": {
          "base_uri": "https://localhost:8080/",
          "height": 131
        },
        "outputId": "5bc84671-cdb8-4d94-b023-f72197659ab1"
      },
      "source": [
        "# Adaboost com árvores mínimas\n",
        "ada = AdaBoostRegression(tree.DecisionTreeRegression(max_depth=2), \n",
        "                         algorithm=\"SAMME\", n_estimators=10)\n",
        "ada.fit(X_train, y_train)\n",
        "y_pred = ada.predict(X_test)\n",
        "print(\"Classificador AdaBoost:\\n AdaBoostClassifier(tree.DecisionTreeClassifier(max_depth=1), algorithm=\\\"SAMME\\\", n_estimators=20)\\n\")\n",
        "print(\"--------------------------------------\")\n",
        "print(\"Acurácia da base de treinamento: {:.2f}\".format(ada.score(X_train, y_train)))\n",
        "print(\"--------------------------------------\")\n",
        "\n",
        ".AdaBoostRegressor(base_estimator=None, *, n_estimators=50, learning_rate=1.0, loss='linear', random_state=None)[source]"
      ],
      "execution_count": null,
      "outputs": [
        {
          "output_type": "error",
          "ename": "SyntaxError",
          "evalue": "ignored",
          "traceback": [
            "\u001b[0;36m  File \u001b[0;32m\"<ipython-input-1-df47796e3a67>\"\u001b[0;36m, line \u001b[0;32m11\u001b[0m\n\u001b[0;31m    .AdaBoostRegressor(base_estimator=None, *, n_estimators=50, learning_rate=1.0, loss='linear', random_state=None)[source]\u001b[0m\n\u001b[0m    ^\u001b[0m\n\u001b[0;31mSyntaxError\u001b[0m\u001b[0;31m:\u001b[0m invalid syntax\n"
          ]
        }
      ]
    },
    {
      "cell_type": "code",
      "metadata": {
        "id": "JsfEQdp6wSDn"
      },
      "source": [
        ""
      ],
      "execution_count": null,
      "outputs": []
    }
  ]
}