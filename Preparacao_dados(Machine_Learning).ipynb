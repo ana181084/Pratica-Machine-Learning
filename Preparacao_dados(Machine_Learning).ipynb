{
  "nbformat": 4,
  "nbformat_minor": 0,
  "metadata": {
    "colab": {
      "name": "Preparacao_dados(Machine Learning).ipynb",
      "provenance": [],
      "toc_visible": true
    },
    "kernelspec": {
      "name": "python3",
      "display_name": "Python 3"
    },
    "language_info": {
      "name": "python"
    }
  },
  "cells": [
    {
      "cell_type": "code",
      "metadata": {
        "id": "zphGYLvrMemj"
      },
      "source": [
        "import pandas as pd\n",
        "import numpy as np\n",
        "from google.colab import files"
      ],
      "execution_count": null,
      "outputs": []
    },
    {
      "cell_type": "markdown",
      "metadata": {
        "id": "Vmzm6Ps0M2NO"
      },
      "source": [
        "ATIVIDADE PRÁTICA - EM DUPLA\n",
        "\n",
        "Adaptado de North, Matthew A. Data Mining for the Masses. 2012.\n",
        "\n",
        "Esta atividade irá precisar da base de dados: automoveis.xlsx \n",
        "\n",
        "Carregue a base de dados Automoveis.xlsx, e realize a preparação dos dados para que eles sejam consistentes. Você irá encontrar:\n",
        "\n",
        "\n",
        "*  Valores omissos que poderão ser registros ou atributos\n",
        "*   Valores omissos que poderão ser estimados\n",
        "*   Valores inconsistentes\n",
        "*   Problemas de formatação de dados\n",
        "\n",
        " Você poderá corrigir valores omissos e inconsistentes da forma que julgar procedente. Elimine campos caso ache que algum campo é redundante ou desinteressante. Explique sua estratégia.\n",
        "\n",
        "*   Quando é melhor substituir valores? \n",
        "*   Quando é melhor remover o registro?\n",
        "*   Quando podemos estimar o valor pelos demais?\n",
        "\n",
        "\n"
      ]
    },
    {
      "cell_type": "markdown",
      "metadata": {
        "id": "OuH1WlBIzlax"
      },
      "source": [
        "# Análises inciais"
      ]
    },
    {
      "cell_type": "code",
      "metadata": {
        "colab": {
          "resources": {
            "http://localhost:8080/nbextensions/google.colab/files.js": {
              "data": "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",
              "ok": true,
              "headers": [
                [
                  "content-type",
                  "application/javascript"
                ]
              ],
              "status": 200,
              "status_text": ""
            }
          },
          "base_uri": "https://localhost:8080/",
          "height": 90
        },
        "id": "BGmleK19SCpL",
        "outputId": "841b220d-d932-4df7-8e20-6eec954a3e5d"
      },
      "source": [
        "uploaded = files.upload()"
      ],
      "execution_count": null,
      "outputs": [
        {
          "output_type": "display_data",
          "data": {
            "text/html": [
              "\n",
              "     <input type=\"file\" id=\"files-b8f34793-0467-48d4-96b9-5457733a9d17\" name=\"files[]\" multiple disabled\n",
              "        style=\"border:none\" />\n",
              "     <output id=\"result-b8f34793-0467-48d4-96b9-5457733a9d17\">\n",
              "      Upload widget is only available when the cell has been executed in the\n",
              "      current browser session. Please rerun this cell to enable.\n",
              "      </output>\n",
              "      <script src=\"/nbextensions/google.colab/files.js\"></script> "
            ],
            "text/plain": [
              "<IPython.core.display.HTML object>"
            ]
          },
          "metadata": {}
        },
        {
          "output_type": "stream",
          "text": [
            "Saving automoveis.xlsx to automoveis (8).xlsx\n"
          ],
          "name": "stdout"
        }
      ]
    },
    {
      "cell_type": "code",
      "metadata": {
        "id": "QT3TlhpXUaiA"
      },
      "source": [
        "dados = pd.read_excel(\"automoveis.xlsx\")"
      ],
      "execution_count": null,
      "outputs": []
    },
    {
      "cell_type": "code",
      "metadata": {
        "colab": {
          "base_uri": "https://localhost:8080/",
          "height": 197
        },
        "id": "26jSV0Fp3fPR",
        "outputId": "f6e2a3bb-0302-42bc-bff3-65163085eb28"
      },
      "source": [
        "dados.head(3)"
      ],
      "execution_count": null,
      "outputs": [
        {
          "output_type": "execute_result",
          "data": {
            "text/html": [
              "<div>\n",
              "<style scoped>\n",
              "    .dataframe tbody tr th:only-of-type {\n",
              "        vertical-align: middle;\n",
              "    }\n",
              "\n",
              "    .dataframe tbody tr th {\n",
              "        vertical-align: top;\n",
              "    }\n",
              "\n",
              "    .dataframe thead th {\n",
              "        text-align: right;\n",
              "    }\n",
              "</style>\n",
              "<table border=\"1\" class=\"dataframe\">\n",
              "  <thead>\n",
              "    <tr style=\"text-align: right;\">\n",
              "      <th></th>\n",
              "      <th>Fabricante</th>\n",
              "      <th>Combustível</th>\n",
              "      <th>Portas</th>\n",
              "      <th>Estilo Chassis</th>\n",
              "      <th>Tração</th>\n",
              "      <th>Comprimento</th>\n",
              "      <th>Largura</th>\n",
              "      <th>Altura</th>\n",
              "      <th>Tipo de motor</th>\n",
              "      <th>Número de cilindros</th>\n",
              "      <th>Tamanho do motor</th>\n",
              "      <th>Tipo de injeção</th>\n",
              "      <th>Potência (HP)</th>\n",
              "      <th>Pico RPM</th>\n",
              "      <th>Preço</th>\n",
              "    </tr>\n",
              "  </thead>\n",
              "  <tbody>\n",
              "    <tr>\n",
              "      <th>0</th>\n",
              "      <td>alfa-romeo</td>\n",
              "      <td>gas</td>\n",
              "      <td>2.0</td>\n",
              "      <td>conversível</td>\n",
              "      <td>traseira</td>\n",
              "      <td>168,80</td>\n",
              "      <td>64,10</td>\n",
              "      <td>48,80</td>\n",
              "      <td>dohc</td>\n",
              "      <td>4</td>\n",
              "      <td>130,00</td>\n",
              "      <td>mpfi</td>\n",
              "      <td>111,00</td>\n",
              "      <td>5000,00</td>\n",
              "      <td>13495,00</td>\n",
              "    </tr>\n",
              "    <tr>\n",
              "      <th>1</th>\n",
              "      <td>alfa-romeo</td>\n",
              "      <td>gas</td>\n",
              "      <td>2.0</td>\n",
              "      <td>conversível</td>\n",
              "      <td>traseira</td>\n",
              "      <td>168,80</td>\n",
              "      <td>64,10</td>\n",
              "      <td>48,80</td>\n",
              "      <td>dohc</td>\n",
              "      <td>4</td>\n",
              "      <td>130,00</td>\n",
              "      <td>mpfi</td>\n",
              "      <td>111,00</td>\n",
              "      <td>5000,00</td>\n",
              "      <td>16500,00</td>\n",
              "    </tr>\n",
              "    <tr>\n",
              "      <th>2</th>\n",
              "      <td>alfa-romeo</td>\n",
              "      <td>gas</td>\n",
              "      <td>2.0</td>\n",
              "      <td>hatch</td>\n",
              "      <td>traseira</td>\n",
              "      <td>171,20</td>\n",
              "      <td>65,50</td>\n",
              "      <td>52,40</td>\n",
              "      <td>ohcv</td>\n",
              "      <td>6</td>\n",
              "      <td>152,00</td>\n",
              "      <td>mpfi</td>\n",
              "      <td>154,00</td>\n",
              "      <td>5000,00</td>\n",
              "      <td>16500,00</td>\n",
              "    </tr>\n",
              "  </tbody>\n",
              "</table>\n",
              "</div>"
            ],
            "text/plain": [
              "   Fabricante Combustível  Portas  ... Potência (HP) Pico RPM     Preço\n",
              "0  alfa-romeo         gas     2.0  ...        111,00  5000,00  13495,00\n",
              "1  alfa-romeo         gas     2.0  ...        111,00  5000,00  16500,00\n",
              "2  alfa-romeo         gas     2.0  ...        154,00  5000,00  16500,00\n",
              "\n",
              "[3 rows x 15 columns]"
            ]
          },
          "metadata": {},
          "execution_count": 361
        }
      ]
    },
    {
      "cell_type": "code",
      "metadata": {
        "colab": {
          "base_uri": "https://localhost:8080/"
        },
        "id": "LGp4--1qyn-h",
        "outputId": "80472903-5801-4819-efc9-3113695b0744"
      },
      "source": [
        "#Dimensão do DataFrame\n",
        "dados.shape"
      ],
      "execution_count": null,
      "outputs": [
        {
          "output_type": "execute_result",
          "data": {
            "text/plain": [
              "(205, 15)"
            ]
          },
          "metadata": {},
          "execution_count": 362
        }
      ]
    },
    {
      "cell_type": "code",
      "metadata": {
        "colab": {
          "base_uri": "https://localhost:8080/"
        },
        "id": "w8rf9tZG73AZ",
        "outputId": "62e94363-128c-4940-9274-eca5645cebcb"
      },
      "source": [
        "#Tipo dos dados \n",
        "dados.info()"
      ],
      "execution_count": null,
      "outputs": [
        {
          "output_type": "stream",
          "text": [
            "<class 'pandas.core.frame.DataFrame'>\n",
            "RangeIndex: 205 entries, 0 to 204\n",
            "Data columns (total 15 columns):\n",
            " #   Column               Non-Null Count  Dtype  \n",
            "---  ------               --------------  -----  \n",
            " 0   Fabricante           203 non-null    object \n",
            " 1   Combustível          200 non-null    object \n",
            " 2   Portas               203 non-null    float64\n",
            " 3   Estilo Chassis       205 non-null    object \n",
            " 4   Tração               205 non-null    object \n",
            " 5   Comprimento          205 non-null    object \n",
            " 6   Largura              205 non-null    object \n",
            " 7   Altura               205 non-null    object \n",
            " 8   Tipo de motor        205 non-null    object \n",
            " 9   Número de cilindros  205 non-null    object \n",
            " 10  Tamanho do motor     205 non-null    object \n",
            " 11  Tipo de injeção      205 non-null    object \n",
            " 12  Potência (HP)        205 non-null    object \n",
            " 13  Pico RPM             205 non-null    object \n",
            " 14  Preço                205 non-null    object \n",
            "dtypes: float64(1), object(14)\n",
            "memory usage: 24.1+ KB\n"
          ],
          "name": "stdout"
        }
      ]
    },
    {
      "cell_type": "code",
      "metadata": {
        "id": "68A31s4AJOHP"
      },
      "source": [
        "#Transformando as colunas númericas para float\n",
        "for i in dados.columns[[5,6,7,10,12,13,14]]:\n",
        "  dados[i] = dados[i].str.replace(',','.').astype(float) "
      ],
      "execution_count": null,
      "outputs": []
    },
    {
      "cell_type": "code",
      "metadata": {
        "colab": {
          "base_uri": "https://localhost:8080/"
        },
        "id": "5xnw_iQ_JOx9",
        "outputId": "be7916ca-8eb7-4678-d873-c31219c3de03"
      },
      "source": [
        "dados.info()"
      ],
      "execution_count": null,
      "outputs": [
        {
          "output_type": "stream",
          "text": [
            "<class 'pandas.core.frame.DataFrame'>\n",
            "RangeIndex: 205 entries, 0 to 204\n",
            "Data columns (total 15 columns):\n",
            " #   Column               Non-Null Count  Dtype  \n",
            "---  ------               --------------  -----  \n",
            " 0   Fabricante           205 non-null    object \n",
            " 1   Combustível          205 non-null    object \n",
            " 2   Portas               205 non-null    float64\n",
            " 3   Estilo Chassis       205 non-null    object \n",
            " 4   Tração               205 non-null    object \n",
            " 5   Comprimento          205 non-null    float64\n",
            " 6   Largura              205 non-null    float64\n",
            " 7   Altura               205 non-null    float64\n",
            " 8   Tipo de motor        205 non-null    object \n",
            " 9   Número de cilindros  205 non-null    float64\n",
            " 10  Tamanho do motor     205 non-null    float64\n",
            " 11  Tipo de injeção      205 non-null    object \n",
            " 12  Potência (HP)        205 non-null    float64\n",
            " 13  Pico RPM             205 non-null    float64\n",
            " 14  Preço                205 non-null    float64\n",
            "dtypes: float64(9), object(6)\n",
            "memory usage: 24.1+ KB\n"
          ],
          "name": "stdout"
        }
      ]
    },
    {
      "cell_type": "code",
      "metadata": {
        "id": "ArPOFTM-yZEJ"
      },
      "source": [
        ""
      ],
      "execution_count": null,
      "outputs": []
    },
    {
      "cell_type": "markdown",
      "metadata": {
        "id": "jtf9xmthyadB"
      },
      "source": [
        "# Tratativa para dados omissos"
      ]
    },
    {
      "cell_type": "code",
      "metadata": {
        "colab": {
          "base_uri": "https://localhost:8080/"
        },
        "id": "qGzkrbr0rVdg",
        "outputId": "fa77f064-d1e1-44c3-ac3c-5c6ffaeb0558"
      },
      "source": [
        "#verificação de dados omissos \n",
        "dados.isnull().sum()"
      ],
      "execution_count": null,
      "outputs": [
        {
          "output_type": "execute_result",
          "data": {
            "text/plain": [
              "Fabricante             2\n",
              "Combustível            5\n",
              "Portas                 2\n",
              "Estilo Chassis         0\n",
              "Tração                 0\n",
              "Comprimento            0\n",
              "Largura                0\n",
              "Altura                 0\n",
              "Tipo de motor          0\n",
              "Número de cilindros    0\n",
              "Tamanho do motor       0\n",
              "Tipo de injeção        0\n",
              "Potência (HP)          0\n",
              "Pico RPM               2\n",
              "Preço                  0\n",
              "dtype: int64"
            ]
          },
          "metadata": {},
          "execution_count": 366
        }
      ]
    },
    {
      "cell_type": "code",
      "metadata": {
        "colab": {
          "base_uri": "https://localhost:8080/"
        },
        "id": "Ah9ByjQXxuNQ",
        "outputId": "372d4f83-9b4b-437b-ef6a-278b65443454"
      },
      "source": [
        "dados['Portas'].mean()  # Tratamento de dados por valores médios\n",
        "dados['Combustível'].mode()  # Tratamento de dados pela moda das categorias\n",
        "dados['Fabricante'].mode()  # Tratamento de dados pela moda das categorias\n",
        "# Como a base de dados é pequena não utilizei o tratamento de dados por agrupamento."
      ],
      "execution_count": null,
      "outputs": [
        {
          "output_type": "execute_result",
          "data": {
            "text/plain": [
              "0    toyota\n",
              "dtype: object"
            ]
          },
          "metadata": {},
          "execution_count": 367
        }
      ]
    },
    {
      "cell_type": "code",
      "metadata": {
        "colab": {
          "base_uri": "https://localhost:8080/"
        },
        "id": "BWQj1z5-sDxG",
        "outputId": "bd5be1e4-e529-407e-9712-ce95817c1162"
      },
      "source": [
        "#Tratamento para dados  omissos\n",
        "dados['Portas'].fillna(value=dados['Portas'].mean(), inplace=True)\n",
        "dados['Combustível'].fillna(dados['Combustível'].mode()[0], inplace=True)\n",
        "dados['Fabricante'].fillna(dados['Fabricante'].mode()[0], inplace=True)\n",
        "#Verificação da corretiva\n",
        "dados.isnull().sum() "
      ],
      "execution_count": null,
      "outputs": [
        {
          "output_type": "execute_result",
          "data": {
            "text/plain": [
              "Fabricante             0\n",
              "Combustível            0\n",
              "Portas                 0\n",
              "Estilo Chassis         0\n",
              "Tração                 0\n",
              "Comprimento            0\n",
              "Largura                0\n",
              "Altura                 0\n",
              "Tipo de motor          0\n",
              "Número de cilindros    0\n",
              "Tamanho do motor       0\n",
              "Tipo de injeção        0\n",
              "Potência (HP)          0\n",
              "Pico RPM               2\n",
              "Preço                  0\n",
              "dtype: int64"
            ]
          },
          "metadata": {},
          "execution_count": 368
        }
      ]
    },
    {
      "cell_type": "code",
      "metadata": {
        "colab": {
          "base_uri": "https://localhost:8080/"
        },
        "id": "0bwsYBUQzWze",
        "outputId": "bf88ad8e-f921-4b43-fa6a-3b50697b64a3"
      },
      "source": [
        "#Tratamento para a coluna Pico RPM\n",
        "dados['Pico RPM'].fillna(dados['Pico RPM'].mean(), inplace = True)\n",
        "dados.isnull().sum() "
      ],
      "execution_count": null,
      "outputs": [
        {
          "output_type": "execute_result",
          "data": {
            "text/plain": [
              "Fabricante             0\n",
              "Combustível            0\n",
              "Portas                 0\n",
              "Estilo Chassis         0\n",
              "Tração                 0\n",
              "Comprimento            0\n",
              "Largura                0\n",
              "Altura                 0\n",
              "Tipo de motor          0\n",
              "Número de cilindros    0\n",
              "Tamanho do motor       0\n",
              "Tipo de injeção        0\n",
              "Potência (HP)          0\n",
              "Pico RPM               0\n",
              "Preço                  0\n",
              "dtype: int64"
            ]
          },
          "metadata": {},
          "execution_count": 436
        }
      ]
    },
    {
      "cell_type": "code",
      "metadata": {
        "id": "oU2_JYkwyPmH"
      },
      "source": [
        ""
      ],
      "execution_count": null,
      "outputs": []
    },
    {
      "cell_type": "markdown",
      "metadata": {
        "id": "zrjlxBdeyQl_"
      },
      "source": [
        "# Dados numéricos \n",
        "\n",
        "*   Tratativa para dados inconsistentes\n",
        "\n",
        "\n"
      ]
    },
    {
      "cell_type": "code",
      "metadata": {
        "colab": {
          "base_uri": "https://localhost:8080/",
          "height": 299
        },
        "id": "l-GgA9f_Mevo",
        "outputId": "40ee2ed0-0f2e-4299-dfbe-03a04113fd74"
      },
      "source": [
        "#Descritiva para os dados númericos\n",
        "dados.describe()"
      ],
      "execution_count": null,
      "outputs": [
        {
          "output_type": "execute_result",
          "data": {
            "text/html": [
              "<div>\n",
              "<style scoped>\n",
              "    .dataframe tbody tr th:only-of-type {\n",
              "        vertical-align: middle;\n",
              "    }\n",
              "\n",
              "    .dataframe tbody tr th {\n",
              "        vertical-align: top;\n",
              "    }\n",
              "\n",
              "    .dataframe thead th {\n",
              "        text-align: right;\n",
              "    }\n",
              "</style>\n",
              "<table border=\"1\" class=\"dataframe\">\n",
              "  <thead>\n",
              "    <tr style=\"text-align: right;\">\n",
              "      <th></th>\n",
              "      <th>Portas</th>\n",
              "      <th>Comprimento</th>\n",
              "      <th>Largura</th>\n",
              "      <th>Altura</th>\n",
              "      <th>Tamanho do motor</th>\n",
              "      <th>Potência (HP)</th>\n",
              "      <th>Pico RPM</th>\n",
              "      <th>Preço</th>\n",
              "    </tr>\n",
              "  </thead>\n",
              "  <tbody>\n",
              "    <tr>\n",
              "      <th>count</th>\n",
              "      <td>205.000000</td>\n",
              "      <td>205.000000</td>\n",
              "      <td>205.000000</td>\n",
              "      <td>205.000000</td>\n",
              "      <td>205.000000</td>\n",
              "      <td>205.000000</td>\n",
              "      <td>205.000000</td>\n",
              "      <td>205.000000</td>\n",
              "    </tr>\n",
              "    <tr>\n",
              "      <th>mean</th>\n",
              "      <td>3.123153</td>\n",
              "      <td>174.049268</td>\n",
              "      <td>65.907805</td>\n",
              "      <td>53.724878</td>\n",
              "      <td>126.907317</td>\n",
              "      <td>104.256195</td>\n",
              "      <td>5118.722857</td>\n",
              "      <td>13207.129366</td>\n",
              "    </tr>\n",
              "    <tr>\n",
              "      <th>std</th>\n",
              "      <td>0.989952</td>\n",
              "      <td>12.337289</td>\n",
              "      <td>2.145204</td>\n",
              "      <td>2.443522</td>\n",
              "      <td>41.642693</td>\n",
              "      <td>39.519211</td>\n",
              "      <td>472.232010</td>\n",
              "      <td>7868.768212</td>\n",
              "    </tr>\n",
              "    <tr>\n",
              "      <th>min</th>\n",
              "      <td>2.000000</td>\n",
              "      <td>141.100000</td>\n",
              "      <td>60.300000</td>\n",
              "      <td>47.800000</td>\n",
              "      <td>61.000000</td>\n",
              "      <td>48.000000</td>\n",
              "      <td>4150.000000</td>\n",
              "      <td>5118.000000</td>\n",
              "    </tr>\n",
              "    <tr>\n",
              "      <th>25%</th>\n",
              "      <td>2.000000</td>\n",
              "      <td>166.300000</td>\n",
              "      <td>64.100000</td>\n",
              "      <td>52.000000</td>\n",
              "      <td>97.000000</td>\n",
              "      <td>70.000000</td>\n",
              "      <td>4800.000000</td>\n",
              "      <td>7788.000000</td>\n",
              "    </tr>\n",
              "    <tr>\n",
              "      <th>50%</th>\n",
              "      <td>4.000000</td>\n",
              "      <td>173.200000</td>\n",
              "      <td>65.500000</td>\n",
              "      <td>54.100000</td>\n",
              "      <td>120.000000</td>\n",
              "      <td>95.000000</td>\n",
              "      <td>5125.370000</td>\n",
              "      <td>10595.000000</td>\n",
              "    </tr>\n",
              "    <tr>\n",
              "      <th>75%</th>\n",
              "      <td>4.000000</td>\n",
              "      <td>183.100000</td>\n",
              "      <td>66.900000</td>\n",
              "      <td>55.500000</td>\n",
              "      <td>141.000000</td>\n",
              "      <td>116.000000</td>\n",
              "      <td>5500.000000</td>\n",
              "      <td>16500.000000</td>\n",
              "    </tr>\n",
              "    <tr>\n",
              "      <th>max</th>\n",
              "      <td>4.000000</td>\n",
              "      <td>208.100000</td>\n",
              "      <td>72.300000</td>\n",
              "      <td>59.800000</td>\n",
              "      <td>326.000000</td>\n",
              "      <td>288.000000</td>\n",
              "      <td>6600.000000</td>\n",
              "      <td>45400.000000</td>\n",
              "    </tr>\n",
              "  </tbody>\n",
              "</table>\n",
              "</div>"
            ],
            "text/plain": [
              "           Portas  Comprimento  ...     Pico RPM         Preço\n",
              "count  205.000000   205.000000  ...   205.000000    205.000000\n",
              "mean     3.123153   174.049268  ...  5118.722857  13207.129366\n",
              "std      0.989952    12.337289  ...   472.232010   7868.768212\n",
              "min      2.000000   141.100000  ...  4150.000000   5118.000000\n",
              "25%      2.000000   166.300000  ...  4800.000000   7788.000000\n",
              "50%      4.000000   173.200000  ...  5125.370000  10595.000000\n",
              "75%      4.000000   183.100000  ...  5500.000000  16500.000000\n",
              "max      4.000000   208.100000  ...  6600.000000  45400.000000\n",
              "\n",
              "[8 rows x 8 columns]"
            ]
          },
          "metadata": {},
          "execution_count": 373
        }
      ]
    },
    {
      "cell_type": "code",
      "metadata": {
        "id": "RLn8bOhjMzyI"
      },
      "source": [
        "#Tratamento para a coluna Número de cilindros\n",
        "dados['Número de cilindros'].unique() #verificando os valores unicos das colunas \n",
        "dados['Número de cilindros'] = dados['Número de cilindros'].replace(['doze', 'oito'], np.nan)\n",
        "#Preenchendo os valores zero pela Moda\n",
        "dados['Número de cilindros'].fillna(dados['Número de cilindros'].mode()[0], inplace=True)"
      ],
      "execution_count": null,
      "outputs": []
    },
    {
      "cell_type": "code",
      "metadata": {
        "colab": {
          "base_uri": "https://localhost:8080/",
          "height": 316
        },
        "id": "5rWkKuL6N4sS",
        "outputId": "14b3aeed-1a9d-4c1c-acab-703a83b74430"
      },
      "source": [
        "dados.describe()"
      ],
      "execution_count": null,
      "outputs": [
        {
          "output_type": "execute_result",
          "data": {
            "text/html": [
              "<div>\n",
              "<style scoped>\n",
              "    .dataframe tbody tr th:only-of-type {\n",
              "        vertical-align: middle;\n",
              "    }\n",
              "\n",
              "    .dataframe tbody tr th {\n",
              "        vertical-align: top;\n",
              "    }\n",
              "\n",
              "    .dataframe thead th {\n",
              "        text-align: right;\n",
              "    }\n",
              "</style>\n",
              "<table border=\"1\" class=\"dataframe\">\n",
              "  <thead>\n",
              "    <tr style=\"text-align: right;\">\n",
              "      <th></th>\n",
              "      <th>Portas</th>\n",
              "      <th>Comprimento</th>\n",
              "      <th>Largura</th>\n",
              "      <th>Altura</th>\n",
              "      <th>Número de cilindros</th>\n",
              "      <th>Tamanho do motor</th>\n",
              "      <th>Potência (HP)</th>\n",
              "      <th>Pico RPM</th>\n",
              "      <th>Preço</th>\n",
              "    </tr>\n",
              "  </thead>\n",
              "  <tbody>\n",
              "    <tr>\n",
              "      <th>count</th>\n",
              "      <td>205.000000</td>\n",
              "      <td>205.000000</td>\n",
              "      <td>205.000000</td>\n",
              "      <td>205.000000</td>\n",
              "      <td>205.000000</td>\n",
              "      <td>205.000000</td>\n",
              "      <td>205.000000</td>\n",
              "      <td>205.000000</td>\n",
              "      <td>205.000000</td>\n",
              "    </tr>\n",
              "    <tr>\n",
              "      <th>mean</th>\n",
              "      <td>3.123153</td>\n",
              "      <td>174.049268</td>\n",
              "      <td>65.907805</td>\n",
              "      <td>53.724878</td>\n",
              "      <td>4.243902</td>\n",
              "      <td>126.907317</td>\n",
              "      <td>104.256195</td>\n",
              "      <td>5118.722857</td>\n",
              "      <td>13207.129366</td>\n",
              "    </tr>\n",
              "    <tr>\n",
              "      <th>std</th>\n",
              "      <td>0.989952</td>\n",
              "      <td>12.337289</td>\n",
              "      <td>2.145204</td>\n",
              "      <td>2.443522</td>\n",
              "      <td>0.740313</td>\n",
              "      <td>41.642693</td>\n",
              "      <td>39.519211</td>\n",
              "      <td>472.232010</td>\n",
              "      <td>7868.768212</td>\n",
              "    </tr>\n",
              "    <tr>\n",
              "      <th>min</th>\n",
              "      <td>2.000000</td>\n",
              "      <td>141.100000</td>\n",
              "      <td>60.300000</td>\n",
              "      <td>47.800000</td>\n",
              "      <td>2.000000</td>\n",
              "      <td>61.000000</td>\n",
              "      <td>48.000000</td>\n",
              "      <td>4150.000000</td>\n",
              "      <td>5118.000000</td>\n",
              "    </tr>\n",
              "    <tr>\n",
              "      <th>25%</th>\n",
              "      <td>2.000000</td>\n",
              "      <td>166.300000</td>\n",
              "      <td>64.100000</td>\n",
              "      <td>52.000000</td>\n",
              "      <td>4.000000</td>\n",
              "      <td>97.000000</td>\n",
              "      <td>70.000000</td>\n",
              "      <td>4800.000000</td>\n",
              "      <td>7788.000000</td>\n",
              "    </tr>\n",
              "    <tr>\n",
              "      <th>50%</th>\n",
              "      <td>4.000000</td>\n",
              "      <td>173.200000</td>\n",
              "      <td>65.500000</td>\n",
              "      <td>54.100000</td>\n",
              "      <td>4.000000</td>\n",
              "      <td>120.000000</td>\n",
              "      <td>95.000000</td>\n",
              "      <td>5125.370000</td>\n",
              "      <td>10595.000000</td>\n",
              "    </tr>\n",
              "    <tr>\n",
              "      <th>75%</th>\n",
              "      <td>4.000000</td>\n",
              "      <td>183.100000</td>\n",
              "      <td>66.900000</td>\n",
              "      <td>55.500000</td>\n",
              "      <td>4.000000</td>\n",
              "      <td>141.000000</td>\n",
              "      <td>116.000000</td>\n",
              "      <td>5500.000000</td>\n",
              "      <td>16500.000000</td>\n",
              "    </tr>\n",
              "    <tr>\n",
              "      <th>max</th>\n",
              "      <td>4.000000</td>\n",
              "      <td>208.100000</td>\n",
              "      <td>72.300000</td>\n",
              "      <td>59.800000</td>\n",
              "      <td>6.000000</td>\n",
              "      <td>326.000000</td>\n",
              "      <td>288.000000</td>\n",
              "      <td>6600.000000</td>\n",
              "      <td>45400.000000</td>\n",
              "    </tr>\n",
              "  </tbody>\n",
              "</table>\n",
              "</div>"
            ],
            "text/plain": [
              "           Portas  Comprimento  ...     Pico RPM         Preço\n",
              "count  205.000000   205.000000  ...   205.000000    205.000000\n",
              "mean     3.123153   174.049268  ...  5118.722857  13207.129366\n",
              "std      0.989952    12.337289  ...   472.232010   7868.768212\n",
              "min      2.000000   141.100000  ...  4150.000000   5118.000000\n",
              "25%      2.000000   166.300000  ...  4800.000000   7788.000000\n",
              "50%      4.000000   173.200000  ...  5125.370000  10595.000000\n",
              "75%      4.000000   183.100000  ...  5500.000000  16500.000000\n",
              "max      4.000000   208.100000  ...  6600.000000  45400.000000\n",
              "\n",
              "[8 rows x 9 columns]"
            ]
          },
          "metadata": {},
          "execution_count": 442
        }
      ]
    },
    {
      "cell_type": "markdown",
      "metadata": {
        "id": "r07CSpFDS9Tc"
      },
      "source": [
        "\n",
        "\n",
        "```\n",
        "# Isto está formatado como código\n",
        "```\n",
        "\n"
      ]
    },
    {
      "cell_type": "markdown",
      "metadata": {
        "id": "sxfFBVpKx6qk"
      },
      "source": [
        "# Dados Categóricos\n",
        "\n",
        "\n",
        "*   Tratativa para dados inconsistentes\n",
        "\n",
        "\n"
      ]
    },
    {
      "cell_type": "code",
      "metadata": {
        "colab": {
          "base_uri": "https://localhost:8080/",
          "height": 175
        },
        "id": "WyJk_KncT004",
        "outputId": "d842956d-6f7c-4fc5-8644-56c45980241c"
      },
      "source": [
        "dados.describe(include=[object])"
      ],
      "execution_count": null,
      "outputs": [
        {
          "output_type": "execute_result",
          "data": {
            "text/html": [
              "<div>\n",
              "<style scoped>\n",
              "    .dataframe tbody tr th:only-of-type {\n",
              "        vertical-align: middle;\n",
              "    }\n",
              "\n",
              "    .dataframe tbody tr th {\n",
              "        vertical-align: top;\n",
              "    }\n",
              "\n",
              "    .dataframe thead th {\n",
              "        text-align: right;\n",
              "    }\n",
              "</style>\n",
              "<table border=\"1\" class=\"dataframe\">\n",
              "  <thead>\n",
              "    <tr style=\"text-align: right;\">\n",
              "      <th></th>\n",
              "      <th>Fabricante</th>\n",
              "      <th>Combustível</th>\n",
              "      <th>Estilo Chassis</th>\n",
              "      <th>Tração</th>\n",
              "      <th>Tipo de motor</th>\n",
              "      <th>Tipo de injeção</th>\n",
              "    </tr>\n",
              "  </thead>\n",
              "  <tbody>\n",
              "    <tr>\n",
              "      <th>count</th>\n",
              "      <td>205</td>\n",
              "      <td>205</td>\n",
              "      <td>205</td>\n",
              "      <td>205</td>\n",
              "      <td>205</td>\n",
              "      <td>205</td>\n",
              "    </tr>\n",
              "    <tr>\n",
              "      <th>unique</th>\n",
              "      <td>22</td>\n",
              "      <td>2</td>\n",
              "      <td>5</td>\n",
              "      <td>3</td>\n",
              "      <td>7</td>\n",
              "      <td>8</td>\n",
              "    </tr>\n",
              "    <tr>\n",
              "      <th>top</th>\n",
              "      <td>toyota</td>\n",
              "      <td>gas</td>\n",
              "      <td>sedan</td>\n",
              "      <td>dianteira</td>\n",
              "      <td>ohc</td>\n",
              "      <td>mpfi</td>\n",
              "    </tr>\n",
              "    <tr>\n",
              "      <th>freq</th>\n",
              "      <td>34</td>\n",
              "      <td>185</td>\n",
              "      <td>96</td>\n",
              "      <td>122</td>\n",
              "      <td>148</td>\n",
              "      <td>94</td>\n",
              "    </tr>\n",
              "  </tbody>\n",
              "</table>\n",
              "</div>"
            ],
            "text/plain": [
              "       Fabricante Combustível  ... Tipo de motor Tipo de injeção\n",
              "count         205         205  ...           205             205\n",
              "unique         22           2  ...             7               8\n",
              "top        toyota         gas  ...           ohc            mpfi\n",
              "freq           34         185  ...           148              94\n",
              "\n",
              "[4 rows x 6 columns]"
            ]
          },
          "metadata": {},
          "execution_count": 393
        }
      ]
    },
    {
      "cell_type": "code",
      "metadata": {
        "colab": {
          "base_uri": "https://localhost:8080/"
        },
        "id": "hm1y1HZiUIRu",
        "outputId": "05ee9fd3-d460-4e5a-edbf-d7ff9d8a39af"
      },
      "source": [
        "dados['Fabricante'].unique()  "
      ],
      "execution_count": null,
      "outputs": [
        {
          "output_type": "execute_result",
          "data": {
            "text/plain": [
              "array(['alfa-romeo', 'audi', 'bmw', 'chevrolet', 'dodge', 'honda',\n",
              "       'isuzu', 'jaguar', 'mazda', 'mercedes-benz', 'mercury',\n",
              "       'mitsubishi', 'nissan', 'peugot', 'plymouth', 'porsche', 'renault',\n",
              "       'saab', 'subaru', 'toyota', 'volkswagen', 'volvo'], dtype=object)"
            ]
          },
          "metadata": {},
          "execution_count": 394
        }
      ]
    },
    {
      "cell_type": "code",
      "metadata": {
        "colab": {
          "base_uri": "https://localhost:8080/"
        },
        "id": "aJc8qIceVPdM",
        "outputId": "cb03ba8d-2bbe-4841-f0c5-29f2a7e9dcf1"
      },
      "source": [
        "dados['Combustível'].unique() "
      ],
      "execution_count": null,
      "outputs": [
        {
          "output_type": "execute_result",
          "data": {
            "text/plain": [
              "array(['gas', 'diesel'], dtype=object)"
            ]
          },
          "metadata": {},
          "execution_count": 395
        }
      ]
    },
    {
      "cell_type": "code",
      "metadata": {
        "colab": {
          "base_uri": "https://localhost:8080/"
        },
        "id": "GWDUaa22Ve0A",
        "outputId": "8db42515-4a9b-4ae1-897a-55ac5c3a2a85"
      },
      "source": [
        "dados['Estilo Chassis'].unique()  "
      ],
      "execution_count": null,
      "outputs": [
        {
          "output_type": "execute_result",
          "data": {
            "text/plain": [
              "array(['conversível', 'hatch', 'sedan', 'suv', 'hardtop'], dtype=object)"
            ]
          },
          "metadata": {},
          "execution_count": 396
        }
      ]
    },
    {
      "cell_type": "code",
      "metadata": {
        "colab": {
          "base_uri": "https://localhost:8080/"
        },
        "id": "VXYFVn2iVhhB",
        "outputId": "d07bd9ca-5fba-4d2f-fd86-d104847ebf9d"
      },
      "source": [
        "dados['Tração'].unique()  \n",
        "# array(['traseira', 'dianteira', '4x4'], dtype=object)\n",
        "dados['Tração'].value_counts() "
      ],
      "execution_count": null,
      "outputs": [
        {
          "output_type": "execute_result",
          "data": {
            "text/plain": [
              "dianteira    122\n",
              "traseira      76\n",
              "nan            7\n",
              "Name: Tração, dtype: int64"
            ]
          },
          "metadata": {},
          "execution_count": 397
        }
      ]
    },
    {
      "cell_type": "code",
      "metadata": {
        "colab": {
          "base_uri": "https://localhost:8080/"
        },
        "id": "1XaiZg2bWGDb",
        "outputId": "89c679bd-dbb7-4ba5-ca4d-ba140781ca30"
      },
      "source": [
        "# Tratamento para tração indefinida 4X4\n",
        "dados['Tração'] = dados['Tração'].replace('4x4', np.nan).astype(str) #retirei os valores indefinidos\n",
        "moda = dados.groupby('Fabricante')['Tração']\n",
        "moda.unique()"
      ],
      "execution_count": null,
      "outputs": [
        {
          "output_type": "execute_result",
          "data": {
            "text/plain": [
              "Fabricante\n",
              "alfa-romeo                       [traseira]\n",
              "audi                       [dianteira, nan]\n",
              "bmw                              [traseira]\n",
              "chevrolet                       [dianteira]\n",
              "dodge                           [dianteira]\n",
              "honda                           [dianteira]\n",
              "isuzu                 [traseira, dianteira]\n",
              "jaguar                           [traseira]\n",
              "mazda                 [dianteira, traseira]\n",
              "mercedes-benz                    [traseira]\n",
              "mercury                          [traseira]\n",
              "mitsubishi                      [dianteira]\n",
              "nissan                [dianteira, traseira]\n",
              "peugot                           [traseira]\n",
              "plymouth              [dianteira, traseira]\n",
              "porsche                          [traseira]\n",
              "renault                         [dianteira]\n",
              "saab                            [dianteira]\n",
              "subaru                     [dianteira, nan]\n",
              "toyota           [dianteira, nan, traseira]\n",
              "volkswagen                      [dianteira]\n",
              "volvo                            [traseira]\n",
              "Name: Tração, dtype: object"
            ]
          },
          "metadata": {},
          "execution_count": 387
        }
      ]
    },
    {
      "cell_type": "code",
      "metadata": {
        "colab": {
          "base_uri": "https://localhost:8080/"
        },
        "id": "tOam8wAfYiGh",
        "outputId": "c8d82dad-c1bf-402f-f29c-4725139833d9"
      },
      "source": [
        "dados['Tração'].loc[(dados.Fabricante == 'audi') | (dados.Fabricante == 'subaru')] = 'dianteira'"
      ],
      "execution_count": null,
      "outputs": [
        {
          "output_type": "stream",
          "text": [
            "/usr/local/lib/python3.7/dist-packages/pandas/core/indexing.py:670: SettingWithCopyWarning: \n",
            "A value is trying to be set on a copy of a slice from a DataFrame\n",
            "\n",
            "See the caveats in the documentation: https://pandas.pydata.org/pandas-docs/stable/user_guide/indexing.html#returning-a-view-versus-a-copy\n",
            "  iloc._setitem_with_indexer(indexer, value)\n"
          ],
          "name": "stderr"
        }
      ]
    },
    {
      "cell_type": "code",
      "metadata": {
        "colab": {
          "base_uri": "https://localhost:8080/",
          "height": 166
        },
        "id": "Fogw43z9ge5K",
        "outputId": "c45554c2-175e-47a9-ac9a-9d7a74f4d507"
      },
      "source": [
        "dados['Tração'].loc[dados.Fabricante == \"toyota\"].value_counts()\n",
        "#Retirei esses valores de indecisão para a tração do fabricante toyota para não atrapalhar na predição\n",
        "dados.dropna().head(2)"
      ],
      "execution_count": null,
      "outputs": [
        {
          "output_type": "execute_result",
          "data": {
            "text/html": [
              "<div>\n",
              "<style scoped>\n",
              "    .dataframe tbody tr th:only-of-type {\n",
              "        vertical-align: middle;\n",
              "    }\n",
              "\n",
              "    .dataframe tbody tr th {\n",
              "        vertical-align: top;\n",
              "    }\n",
              "\n",
              "    .dataframe thead th {\n",
              "        text-align: right;\n",
              "    }\n",
              "</style>\n",
              "<table border=\"1\" class=\"dataframe\">\n",
              "  <thead>\n",
              "    <tr style=\"text-align: right;\">\n",
              "      <th></th>\n",
              "      <th>Fabricante</th>\n",
              "      <th>Combustível</th>\n",
              "      <th>Portas</th>\n",
              "      <th>Estilo Chassis</th>\n",
              "      <th>Tração</th>\n",
              "      <th>Comprimento</th>\n",
              "      <th>Largura</th>\n",
              "      <th>Altura</th>\n",
              "      <th>Tipo de motor</th>\n",
              "      <th>Número de cilindros</th>\n",
              "      <th>Tamanho do motor</th>\n",
              "      <th>Tipo de injeção</th>\n",
              "      <th>Potência (HP)</th>\n",
              "      <th>Pico RPM</th>\n",
              "      <th>Preço</th>\n",
              "    </tr>\n",
              "  </thead>\n",
              "  <tbody>\n",
              "    <tr>\n",
              "      <th>0</th>\n",
              "      <td>alfa-romeo</td>\n",
              "      <td>gas</td>\n",
              "      <td>2.0</td>\n",
              "      <td>conversível</td>\n",
              "      <td>traseira</td>\n",
              "      <td>168.8</td>\n",
              "      <td>64.1</td>\n",
              "      <td>48.8</td>\n",
              "      <td>dohc</td>\n",
              "      <td>4.0</td>\n",
              "      <td>130.0</td>\n",
              "      <td>mpfi</td>\n",
              "      <td>111.0</td>\n",
              "      <td>5000.0</td>\n",
              "      <td>13495.0</td>\n",
              "    </tr>\n",
              "    <tr>\n",
              "      <th>1</th>\n",
              "      <td>alfa-romeo</td>\n",
              "      <td>gas</td>\n",
              "      <td>2.0</td>\n",
              "      <td>conversível</td>\n",
              "      <td>traseira</td>\n",
              "      <td>168.8</td>\n",
              "      <td>64.1</td>\n",
              "      <td>48.8</td>\n",
              "      <td>dohc</td>\n",
              "      <td>4.0</td>\n",
              "      <td>130.0</td>\n",
              "      <td>mpfi</td>\n",
              "      <td>111.0</td>\n",
              "      <td>5000.0</td>\n",
              "      <td>16500.0</td>\n",
              "    </tr>\n",
              "  </tbody>\n",
              "</table>\n",
              "</div>"
            ],
            "text/plain": [
              "   Fabricante Combustível  Portas  ... Potência (HP) Pico RPM    Preço\n",
              "0  alfa-romeo         gas     2.0  ...         111.0   5000.0  13495.0\n",
              "1  alfa-romeo         gas     2.0  ...         111.0   5000.0  16500.0\n",
              "\n",
              "[2 rows x 15 columns]"
            ]
          },
          "metadata": {},
          "execution_count": 428
        }
      ]
    },
    {
      "cell_type": "code",
      "metadata": {
        "colab": {
          "base_uri": "https://localhost:8080/"
        },
        "id": "2oF7hIB-hBFp",
        "outputId": "adf3e223-2930-41e1-89c9-f15ab6d2b951"
      },
      "source": [
        "dados.isna().sum()"
      ],
      "execution_count": null,
      "outputs": [
        {
          "output_type": "execute_result",
          "data": {
            "text/plain": [
              "Fabricante             0\n",
              "Combustível            0\n",
              "Portas                 0\n",
              "Estilo Chassis         0\n",
              "Tração                 0\n",
              "Comprimento            0\n",
              "Largura                0\n",
              "Altura                 0\n",
              "Tipo de motor          0\n",
              "Número de cilindros    0\n",
              "Tamanho do motor       0\n",
              "Tipo de injeção        0\n",
              "Potência (HP)          0\n",
              "Pico RPM               0\n",
              "Preço                  0\n",
              "dtype: int64"
            ]
          },
          "metadata": {},
          "execution_count": 429
        }
      ]
    },
    {
      "cell_type": "code",
      "metadata": {
        "colab": {
          "base_uri": "https://localhost:8080/"
        },
        "id": "vQTJIczgtAJ5",
        "outputId": "dad00ac9-2abb-4265-a14f-f43c6a500f79"
      },
      "source": [
        "dados['Tipo de motor'].unique() \n",
        "# Não entendo nada de motor professor srrs, teria que ter a descrição de cada tipo para ver o que está correto e o\n",
        "# que precisa ser consistido. #array(['dohc', 'ohcv', 'ohc', 'l', 'rotor', 'ohcf', 'dohcv'], dtype=object)\n",
        "dados['Tipo de motor'].value_counts() # Mas parece que está correto "
      ],
      "execution_count": null,
      "outputs": [
        {
          "output_type": "execute_result",
          "data": {
            "text/plain": [
              "ohc      148\n",
              "ohcf      15\n",
              "ohcv      13\n",
              "l         12\n",
              "dohc      12\n",
              "rotor      4\n",
              "dohcv      1\n",
              "Name: Tipo de motor, dtype: int64"
            ]
          },
          "metadata": {},
          "execution_count": 440
        }
      ]
    },
    {
      "cell_type": "code",
      "metadata": {
        "colab": {
          "base_uri": "https://localhost:8080/"
        },
        "id": "QxCV3aVettPX",
        "outputId": "d66bbd87-12b9-44de-b9da-783020595d65"
      },
      "source": [
        "dados['Tipo de motor'].value_counts() # Parece que está correto "
      ],
      "execution_count": null,
      "outputs": [
        {
          "output_type": "execute_result",
          "data": {
            "text/plain": [
              "ohc      148\n",
              "ohcf      15\n",
              "ohcv      13\n",
              "l         12\n",
              "dohc      12\n",
              "rotor      4\n",
              "dohcv      1\n",
              "Name: Tipo de motor, dtype: int64"
            ]
          },
          "metadata": {},
          "execution_count": 434
        }
      ]
    },
    {
      "cell_type": "code",
      "metadata": {
        "colab": {
          "base_uri": "https://localhost:8080/"
        },
        "id": "RIwmjiQwuVrP",
        "outputId": "685d663d-ce27-42e1-daf5-3f8c06ec6b0d"
      },
      "source": [
        "dados['Tipo de injeção'].unique()"
      ],
      "execution_count": null,
      "outputs": [
        {
          "output_type": "execute_result",
          "data": {
            "text/plain": [
              "array(['mpfi', '2bbl', 'mfi', '1bbl', 'spfi', '4bbl', 'idi', 'spdi'],\n",
              "      dtype=object)"
            ]
          },
          "metadata": {},
          "execution_count": 435
        }
      ]
    },
    {
      "cell_type": "code",
      "metadata": {
        "colab": {
          "base_uri": "https://localhost:8080/",
          "height": 447
        },
        "id": "WKyMBzawx3EX",
        "outputId": "6c3299ea-9c3a-4d50-87b7-41805356ef19"
      },
      "source": [
        "##Descritiva Final - Categóricos e númericos\n",
        "dados.describe(include='all')"
      ],
      "execution_count": null,
      "outputs": [
        {
          "output_type": "execute_result",
          "data": {
            "text/html": [
              "<div>\n",
              "<style scoped>\n",
              "    .dataframe tbody tr th:only-of-type {\n",
              "        vertical-align: middle;\n",
              "    }\n",
              "\n",
              "    .dataframe tbody tr th {\n",
              "        vertical-align: top;\n",
              "    }\n",
              "\n",
              "    .dataframe thead th {\n",
              "        text-align: right;\n",
              "    }\n",
              "</style>\n",
              "<table border=\"1\" class=\"dataframe\">\n",
              "  <thead>\n",
              "    <tr style=\"text-align: right;\">\n",
              "      <th></th>\n",
              "      <th>Fabricante</th>\n",
              "      <th>Combustível</th>\n",
              "      <th>Portas</th>\n",
              "      <th>Estilo Chassis</th>\n",
              "      <th>Tração</th>\n",
              "      <th>Comprimento</th>\n",
              "      <th>Largura</th>\n",
              "      <th>Altura</th>\n",
              "      <th>Tipo de motor</th>\n",
              "      <th>Número de cilindros</th>\n",
              "      <th>Tamanho do motor</th>\n",
              "      <th>Tipo de injeção</th>\n",
              "      <th>Potência (HP)</th>\n",
              "      <th>Pico RPM</th>\n",
              "      <th>Preço</th>\n",
              "    </tr>\n",
              "  </thead>\n",
              "  <tbody>\n",
              "    <tr>\n",
              "      <th>count</th>\n",
              "      <td>205</td>\n",
              "      <td>205</td>\n",
              "      <td>205.000000</td>\n",
              "      <td>205</td>\n",
              "      <td>205</td>\n",
              "      <td>205.000000</td>\n",
              "      <td>205.000000</td>\n",
              "      <td>205.000000</td>\n",
              "      <td>205</td>\n",
              "      <td>205.000000</td>\n",
              "      <td>205.000000</td>\n",
              "      <td>205</td>\n",
              "      <td>205.000000</td>\n",
              "      <td>205.000000</td>\n",
              "      <td>205.000000</td>\n",
              "    </tr>\n",
              "    <tr>\n",
              "      <th>unique</th>\n",
              "      <td>22</td>\n",
              "      <td>2</td>\n",
              "      <td>NaN</td>\n",
              "      <td>5</td>\n",
              "      <td>3</td>\n",
              "      <td>NaN</td>\n",
              "      <td>NaN</td>\n",
              "      <td>NaN</td>\n",
              "      <td>7</td>\n",
              "      <td>NaN</td>\n",
              "      <td>NaN</td>\n",
              "      <td>8</td>\n",
              "      <td>NaN</td>\n",
              "      <td>NaN</td>\n",
              "      <td>NaN</td>\n",
              "    </tr>\n",
              "    <tr>\n",
              "      <th>top</th>\n",
              "      <td>toyota</td>\n",
              "      <td>gas</td>\n",
              "      <td>NaN</td>\n",
              "      <td>sedan</td>\n",
              "      <td>dianteira</td>\n",
              "      <td>NaN</td>\n",
              "      <td>NaN</td>\n",
              "      <td>NaN</td>\n",
              "      <td>ohc</td>\n",
              "      <td>NaN</td>\n",
              "      <td>NaN</td>\n",
              "      <td>mpfi</td>\n",
              "      <td>NaN</td>\n",
              "      <td>NaN</td>\n",
              "      <td>NaN</td>\n",
              "    </tr>\n",
              "    <tr>\n",
              "      <th>freq</th>\n",
              "      <td>34</td>\n",
              "      <td>185</td>\n",
              "      <td>NaN</td>\n",
              "      <td>96</td>\n",
              "      <td>127</td>\n",
              "      <td>NaN</td>\n",
              "      <td>NaN</td>\n",
              "      <td>NaN</td>\n",
              "      <td>148</td>\n",
              "      <td>NaN</td>\n",
              "      <td>NaN</td>\n",
              "      <td>94</td>\n",
              "      <td>NaN</td>\n",
              "      <td>NaN</td>\n",
              "      <td>NaN</td>\n",
              "    </tr>\n",
              "    <tr>\n",
              "      <th>mean</th>\n",
              "      <td>NaN</td>\n",
              "      <td>NaN</td>\n",
              "      <td>3.123153</td>\n",
              "      <td>NaN</td>\n",
              "      <td>NaN</td>\n",
              "      <td>174.049268</td>\n",
              "      <td>65.907805</td>\n",
              "      <td>53.724878</td>\n",
              "      <td>NaN</td>\n",
              "      <td>4.243902</td>\n",
              "      <td>126.907317</td>\n",
              "      <td>NaN</td>\n",
              "      <td>104.256195</td>\n",
              "      <td>5118.722857</td>\n",
              "      <td>13207.129366</td>\n",
              "    </tr>\n",
              "    <tr>\n",
              "      <th>std</th>\n",
              "      <td>NaN</td>\n",
              "      <td>NaN</td>\n",
              "      <td>0.989952</td>\n",
              "      <td>NaN</td>\n",
              "      <td>NaN</td>\n",
              "      <td>12.337289</td>\n",
              "      <td>2.145204</td>\n",
              "      <td>2.443522</td>\n",
              "      <td>NaN</td>\n",
              "      <td>0.740313</td>\n",
              "      <td>41.642693</td>\n",
              "      <td>NaN</td>\n",
              "      <td>39.519211</td>\n",
              "      <td>472.232010</td>\n",
              "      <td>7868.768212</td>\n",
              "    </tr>\n",
              "    <tr>\n",
              "      <th>min</th>\n",
              "      <td>NaN</td>\n",
              "      <td>NaN</td>\n",
              "      <td>2.000000</td>\n",
              "      <td>NaN</td>\n",
              "      <td>NaN</td>\n",
              "      <td>141.100000</td>\n",
              "      <td>60.300000</td>\n",
              "      <td>47.800000</td>\n",
              "      <td>NaN</td>\n",
              "      <td>2.000000</td>\n",
              "      <td>61.000000</td>\n",
              "      <td>NaN</td>\n",
              "      <td>48.000000</td>\n",
              "      <td>4150.000000</td>\n",
              "      <td>5118.000000</td>\n",
              "    </tr>\n",
              "    <tr>\n",
              "      <th>25%</th>\n",
              "      <td>NaN</td>\n",
              "      <td>NaN</td>\n",
              "      <td>2.000000</td>\n",
              "      <td>NaN</td>\n",
              "      <td>NaN</td>\n",
              "      <td>166.300000</td>\n",
              "      <td>64.100000</td>\n",
              "      <td>52.000000</td>\n",
              "      <td>NaN</td>\n",
              "      <td>4.000000</td>\n",
              "      <td>97.000000</td>\n",
              "      <td>NaN</td>\n",
              "      <td>70.000000</td>\n",
              "      <td>4800.000000</td>\n",
              "      <td>7788.000000</td>\n",
              "    </tr>\n",
              "    <tr>\n",
              "      <th>50%</th>\n",
              "      <td>NaN</td>\n",
              "      <td>NaN</td>\n",
              "      <td>4.000000</td>\n",
              "      <td>NaN</td>\n",
              "      <td>NaN</td>\n",
              "      <td>173.200000</td>\n",
              "      <td>65.500000</td>\n",
              "      <td>54.100000</td>\n",
              "      <td>NaN</td>\n",
              "      <td>4.000000</td>\n",
              "      <td>120.000000</td>\n",
              "      <td>NaN</td>\n",
              "      <td>95.000000</td>\n",
              "      <td>5125.370000</td>\n",
              "      <td>10595.000000</td>\n",
              "    </tr>\n",
              "    <tr>\n",
              "      <th>75%</th>\n",
              "      <td>NaN</td>\n",
              "      <td>NaN</td>\n",
              "      <td>4.000000</td>\n",
              "      <td>NaN</td>\n",
              "      <td>NaN</td>\n",
              "      <td>183.100000</td>\n",
              "      <td>66.900000</td>\n",
              "      <td>55.500000</td>\n",
              "      <td>NaN</td>\n",
              "      <td>4.000000</td>\n",
              "      <td>141.000000</td>\n",
              "      <td>NaN</td>\n",
              "      <td>116.000000</td>\n",
              "      <td>5500.000000</td>\n",
              "      <td>16500.000000</td>\n",
              "    </tr>\n",
              "    <tr>\n",
              "      <th>max</th>\n",
              "      <td>NaN</td>\n",
              "      <td>NaN</td>\n",
              "      <td>4.000000</td>\n",
              "      <td>NaN</td>\n",
              "      <td>NaN</td>\n",
              "      <td>208.100000</td>\n",
              "      <td>72.300000</td>\n",
              "      <td>59.800000</td>\n",
              "      <td>NaN</td>\n",
              "      <td>6.000000</td>\n",
              "      <td>326.000000</td>\n",
              "      <td>NaN</td>\n",
              "      <td>288.000000</td>\n",
              "      <td>6600.000000</td>\n",
              "      <td>45400.000000</td>\n",
              "    </tr>\n",
              "  </tbody>\n",
              "</table>\n",
              "</div>"
            ],
            "text/plain": [
              "       Fabricante Combustível  ...     Pico RPM         Preço\n",
              "count         205         205  ...   205.000000    205.000000\n",
              "unique         22           2  ...          NaN           NaN\n",
              "top        toyota         gas  ...          NaN           NaN\n",
              "freq           34         185  ...          NaN           NaN\n",
              "mean          NaN         NaN  ...  5118.722857  13207.129366\n",
              "std           NaN         NaN  ...   472.232010   7868.768212\n",
              "min           NaN         NaN  ...  4150.000000   5118.000000\n",
              "25%           NaN         NaN  ...  4800.000000   7788.000000\n",
              "50%           NaN         NaN  ...  5125.370000  10595.000000\n",
              "75%           NaN         NaN  ...  5500.000000  16500.000000\n",
              "max           NaN         NaN  ...  6600.000000  45400.000000\n",
              "\n",
              "[11 rows x 15 columns]"
            ]
          },
          "metadata": {},
          "execution_count": 444
        }
      ]
    },
    {
      "cell_type": "markdown",
      "metadata": {
        "id": "DmDf-O191g7U"
      },
      "source": [
        "# Respostas "
      ]
    },
    {
      "cell_type": "markdown",
      "metadata": {
        "id": "MT2tAi1T2Q7-"
      },
      "source": [
        "Quando é melhor substituir valores? Quando temos certeza de que o valor que estamos inserindo na base de dados, obtido a partir de alguma métrica estastística é representativo do estrato. No exercicio, um bom exemplo foi a tratativa dos dados faltantes para a tração. Nos Fabricantes audi e subaru so tinha dados de tração dianteira. Por isso assumir a moda para substituir os valores seria uma tratativa melhor do que a remoção das informações."
      ]
    },
    {
      "cell_type": "markdown",
      "metadata": {
        "id": "BLdXqDzG4IHb"
      },
      "source": [
        "Quando é melhor remover os valores? Quando não temos certeza se o valor a ser inserido é representativo. No exemplo citado acima, para a tratativa dos dados de tração do Fabricante 'toyota', 16 dos registros eram referente à tração dianteira e 16 era referentes à tração traseira. Nesse caso, não teria como assumir a moda, e como era somente dois registros faltantes, a melhor tratativa seria a remoção das informações. "
      ]
    },
    {
      "cell_type": "markdown",
      "metadata": {
        "id": "YkqBzn496Vp4"
      },
      "source": [
        "Quando podemos estimar o valor pelos demais? Quando as demais variáveis tem correlação causal com a variável a ser preditiva.Essa é um estratégia ideal quanto temos muitos valores faltantes, em uma base extensa, e na qual algumas das variáveis tem causalidade com a variável a ser tratada. A regressão vai buscar um valor médio dentro do estrato, considerando toda a variabilidade deste. Como a base é pequena optei por subsitituir pelas médias e modas."
      ]
    }
  ]
}