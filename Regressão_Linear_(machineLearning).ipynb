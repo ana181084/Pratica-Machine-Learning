{
  "cells": [
    {
      "cell_type": "code",
      "execution_count": null,
      "metadata": {
        "id": "pUeA8X3D5fRT"
      },
      "outputs": [],
      "source": [
        "import pandas as pd\n",
        "import numpy as np\n",
        "from sklearn.model_selection import train_test_split\n",
        "from sklearn.preprocessing import MinMaxScaler, PolynomialFeatures\n",
        "from sklearn.linear_model import LinearRegression, Ridge, Lasso\n",
        "import matplotlib.pyplot as plt\n",
        "from google.colab import files"
      ]
    },
    {
      "cell_type": "markdown",
      "metadata": {
        "id": "bEpd9-J26JMW"
      },
      "source": [
        "# OBJETIVOS"
      ]
    },
    {
      "cell_type": "markdown",
      "metadata": {
        "id": "uGt3ID745oVV"
      },
      "source": [
        "O objetivo dessa atividade é tentar prever necessidades de consumidores baseados em características das casas desses consumidores. Para alcançar este objetivo, iremos realizar a previsão usando regressão linear.\n",
        "\n",
        "Resumo dos dados:\n",
        "\n",
        "*   Isolamento: nível de isolamento térmico da casa em uma taxa de 1 a 10, sendo que 10 indica a máxima espessura do isolamento.\n",
        "*  Temperatura: temperatura ambiente externa média em cada casa no último ano. As medidas estão em graus Fahrenheit.\n",
        "*   Num_ocupantes: número total de pessoas vivendo na casa.\n",
        "*   Idade_media: idade média dos ocupantes da casa.\n",
        "*   Tamanho_casa: tamanho da casa em uma taxa variando de 1 a 8. Quanto maior o valor, maior a casa.\n",
        "*   Aquecimento_oleo: número total de unidades de aquecedores à óleo compradas pelo proprietário da casa no último ano. Esse é o valor a ser estimado.\n",
        "\n",
        "\n",
        "\n",
        "\n",
        "\n",
        "\n",
        "\n",
        "\n",
        "\n",
        "\n",
        "\n"
      ]
    },
    {
      "cell_type": "code",
      "execution_count": null,
      "metadata": {
        "colab": {
          "background_save": true,
          "base_uri": "https://localhost:8080/",
          "height": 37,
          "resources": {
            "http://localhost:8080/nbextensions/google.colab/files.js": {
              "data": "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",
              "headers": [
                [
                  "content-type",
                  "application/javascript"
                ]
              ],
              "ok": true,
              "status": 200,
              "status_text": ""
            }
          }
        },
        "id": "T8gy2WCO5ydZ",
        "outputId": "dc4e22c1-2b1e-45c2-e1b4-74e8f69a302d"
      },
      "outputs": [
        {
          "data": {
            "text/html": [
              "\n",
              "     <input type=\"file\" id=\"files-0a9127dd-dcf1-439f-b8cb-0dccf89d9d73\" name=\"files[]\" multiple disabled\n",
              "        style=\"border:none\" />\n",
              "     <output id=\"result-0a9127dd-dcf1-439f-b8cb-0dccf89d9d73\">\n",
              "      Upload widget is only available when the cell has been executed in the\n",
              "      current browser session. Please rerun this cell to enable.\n",
              "      </output>\n",
              "      <script src=\"/nbextensions/google.colab/files.js\"></script> "
            ],
            "text/plain": [
              "<IPython.core.display.HTML object>"
            ]
          },
          "metadata": {},
          "output_type": "display_data"
        },
        {
          "ename": "TypeError",
          "evalue": "ignored",
          "output_type": "error",
          "traceback": [
            "\u001b[0;31m---------------------------------------------------------------------------\u001b[0m",
            "\u001b[0;31mTypeError\u001b[0m                                 Traceback (most recent call last)",
            "\u001b[0;32m<ipython-input-3-101db3fc8cf4>\u001b[0m in \u001b[0;36m<module>\u001b[0;34m()\u001b[0m\n\u001b[1;32m      1\u001b[0m \u001b[0;31m# Lendo o arquivo em .xlsx\u001b[0m\u001b[0;34m\u001b[0m\u001b[0;34m\u001b[0m\u001b[0;34m\u001b[0m\u001b[0m\n\u001b[0;32m----> 2\u001b[0;31m \u001b[0muploaded\u001b[0m \u001b[0;34m=\u001b[0m \u001b[0mfiles\u001b[0m\u001b[0;34m.\u001b[0m\u001b[0mupload\u001b[0m\u001b[0;34m(\u001b[0m\u001b[0;34m)\u001b[0m\u001b[0;34m\u001b[0m\u001b[0;34m\u001b[0m\u001b[0m\n\u001b[0m\u001b[1;32m      3\u001b[0m \u001b[0mbase\u001b[0m \u001b[0;34m=\u001b[0m \u001b[0mpd\u001b[0m\u001b[0;34m.\u001b[0m\u001b[0mread_excel\u001b[0m\u001b[0;34m(\u001b[0m\u001b[0;34m\"bases_regressao.xlsx\"\u001b[0m\u001b[0;34m,\u001b[0m \u001b[0msheet_name\u001b[0m \u001b[0;34m=\u001b[0m \u001b[0;34m'BASE'\u001b[0m \u001b[0;34m)\u001b[0m\u001b[0;34m\u001b[0m\u001b[0;34m\u001b[0m\u001b[0m\n\u001b[1;32m      4\u001b[0m \u001b[0mbase\u001b[0m\u001b[0;34m.\u001b[0m\u001b[0mhead\u001b[0m\u001b[0;34m(\u001b[0m\u001b[0;36m2\u001b[0m\u001b[0;34m)\u001b[0m\u001b[0;34m\u001b[0m\u001b[0;34m\u001b[0m\u001b[0m\n",
            "\u001b[0;32m/usr/local/lib/python3.7/dist-packages/google/colab/files.py\u001b[0m in \u001b[0;36mupload\u001b[0;34m()\u001b[0m\n\u001b[1;32m     67\u001b[0m   \u001b[0mlocal_filenames\u001b[0m \u001b[0;34m=\u001b[0m \u001b[0mdict\u001b[0m\u001b[0;34m(\u001b[0m\u001b[0;34m)\u001b[0m\u001b[0;34m\u001b[0m\u001b[0;34m\u001b[0m\u001b[0m\n\u001b[1;32m     68\u001b[0m \u001b[0;34m\u001b[0m\u001b[0m\n\u001b[0;32m---> 69\u001b[0;31m   \u001b[0;32mwhile\u001b[0m \u001b[0mresult\u001b[0m\u001b[0;34m[\u001b[0m\u001b[0;34m'action'\u001b[0m\u001b[0;34m]\u001b[0m \u001b[0;34m!=\u001b[0m \u001b[0;34m'complete'\u001b[0m\u001b[0;34m:\u001b[0m\u001b[0;34m\u001b[0m\u001b[0;34m\u001b[0m\u001b[0m\n\u001b[0m\u001b[1;32m     70\u001b[0m     result = _output.eval_js(\n\u001b[1;32m     71\u001b[0m         'google.colab._files._uploadFilesContinue(\"{output_id}\")'.format(\n",
            "\u001b[0;31mTypeError\u001b[0m: 'NoneType' object is not subscriptable"
          ]
        }
      ],
      "source": [
        "# Lendo o arquivo em .xlsx\n",
        "uploaded = files.upload()\n",
        "base = pd.read_excel(\"bases_regressao.xlsx\", sheet_name = 'BASE' ) \n",
        "base.head(2)"
      ]
    },
    {
      "cell_type": "code",
      "execution_count": null,
      "metadata": {
        "colab": {
          "base_uri": "https://localhost:8080/",
          "height": 111
        },
        "id": "EJshRY_uBogm",
        "outputId": "dd8274f7-4a5f-4afb-840b-7d8dbf68ce5d"
      },
      "outputs": [
        {
          "data": {
            "text/html": [
              "<div>\n",
              "<style scoped>\n",
              "    .dataframe tbody tr th:only-of-type {\n",
              "        vertical-align: middle;\n",
              "    }\n",
              "\n",
              "    .dataframe tbody tr th {\n",
              "        vertical-align: top;\n",
              "    }\n",
              "\n",
              "    .dataframe thead th {\n",
              "        text-align: right;\n",
              "    }\n",
              "</style>\n",
              "<table border=\"1\" class=\"dataframe\">\n",
              "  <thead>\n",
              "    <tr style=\"text-align: right;\">\n",
              "      <th></th>\n",
              "      <th>Isolamento</th>\n",
              "      <th>Temperatura</th>\n",
              "      <th>Num_ocupantes</th>\n",
              "      <th>Idade_media</th>\n",
              "      <th>Tamanho_casa</th>\n",
              "    </tr>\n",
              "  </thead>\n",
              "  <tbody>\n",
              "    <tr>\n",
              "      <th>0</th>\n",
              "      <td>5</td>\n",
              "      <td>69</td>\n",
              "      <td>10</td>\n",
              "      <td>70.1</td>\n",
              "      <td>7</td>\n",
              "    </tr>\n",
              "    <tr>\n",
              "      <th>1</th>\n",
              "      <td>5</td>\n",
              "      <td>80</td>\n",
              "      <td>1</td>\n",
              "      <td>66.7</td>\n",
              "      <td>1</td>\n",
              "    </tr>\n",
              "  </tbody>\n",
              "</table>\n",
              "</div>"
            ],
            "text/plain": [
              "   Isolamento  Temperatura  Num_ocupantes  Idade_media  Tamanho_casa\n",
              "0           5           69             10         70.1             7\n",
              "1           5           80              1         66.7             1"
            ]
          },
          "execution_count": 5,
          "metadata": {},
          "output_type": "execute_result"
        }
      ],
      "source": [
        "previsao = pd.read_excel(\"bases_regressao.xlsx\", sheet_name = 'PREVISAO' ) \n",
        "previsao.head(2)"
      ]
    },
    {
      "cell_type": "markdown",
      "metadata": {
        "id": "YCPIZjHY68Nr"
      },
      "source": [
        "# PREPARAÇÃO DOS DADOS"
      ]
    },
    {
      "cell_type": "markdown",
      "metadata": {
        "id": "bitOGm916vjz"
      },
      "source": [
        "Esta atividade irá precisar da base de dados: **bases_regressao.xlsx **\n",
        "\n",
        "Carregue ambas as bases de dados do arquivo Atividade 5 - **Bases.xlsx.** A planilha chamada Bases possui 1219 registros e contém a coluna Aquecimento_oleo, que será utilizada na fase de treinamento. A planilha PREVISAO contém 42651 registros de perfis de casas, mas não possui a coluna **Aquecimento_oleo,** que deverá ser estimada pelo modelo de regressão.\n",
        "\n",
        "Note que os atributos possuem aproximadamente a mesma faixa de valores, com exceção da idade média dos ocupantes, cuja faixa de valores é mais ampla na base de previsão que na base de treinamento. Apesar de podermos acreditar que, provavelmente, essa ligeira diferença na fixa de valores de idade não irá produzir valores imprecisos, a REGRESSÃO LINEAR não pode ser usada para esses casos. Por isso vamos precisar remover esses registros fora da faixa."
      ]
    },
    {
      "cell_type": "code",
      "execution_count": null,
      "metadata": {
        "colab": {
          "base_uri": "https://localhost:8080/"
        },
        "id": "Lr19ALP7-Tgd",
        "outputId": "9fa9304e-180b-4a92-f0aa-664e9dfc64ae"
      },
      "outputs": [
        {
          "name": "stdout",
          "output_type": "stream",
          "text": [
            "Numero de atributos da base de Treinamento e Teste:\n",
            "(1218, 6)\n",
            "Numero de atributos da base de previsão:\n",
            "(42650, 5)\n"
          ]
        }
      ],
      "source": [
        "print(\"Numero de atributos da base de Treinamento e Teste:\")\n",
        "print(base.shape)\n",
        "print(\"Numero de atributos da base de previsão:\")\n",
        "print(previsao.shape)"
      ]
    },
    {
      "cell_type": "code",
      "execution_count": null,
      "metadata": {
        "colab": {
          "base_uri": "https://localhost:8080/",
          "height": 297
        },
        "id": "rkbimjP0ETTC",
        "outputId": "f98ce6d7-b324-4cd6-95bd-bf5d73430998"
      },
      "outputs": [
        {
          "data": {
            "text/html": [
              "<div>\n",
              "<style scoped>\n",
              "    .dataframe tbody tr th:only-of-type {\n",
              "        vertical-align: middle;\n",
              "    }\n",
              "\n",
              "    .dataframe tbody tr th {\n",
              "        vertical-align: top;\n",
              "    }\n",
              "\n",
              "    .dataframe thead th {\n",
              "        text-align: right;\n",
              "    }\n",
              "</style>\n",
              "<table border=\"1\" class=\"dataframe\">\n",
              "  <thead>\n",
              "    <tr style=\"text-align: right;\">\n",
              "      <th></th>\n",
              "      <th>Isolamento</th>\n",
              "      <th>Temperatura</th>\n",
              "      <th>Num_ocupantes</th>\n",
              "      <th>Idade_media</th>\n",
              "      <th>Tamanho_casa</th>\n",
              "      <th>Aquecimento_oleo</th>\n",
              "    </tr>\n",
              "  </thead>\n",
              "  <tbody>\n",
              "    <tr>\n",
              "      <th>count</th>\n",
              "      <td>1218.000000</td>\n",
              "      <td>1218.000000</td>\n",
              "      <td>1218.000000</td>\n",
              "      <td>1218.000000</td>\n",
              "      <td>1218.000000</td>\n",
              "      <td>1218.000000</td>\n",
              "    </tr>\n",
              "    <tr>\n",
              "      <th>mean</th>\n",
              "      <td>6.214286</td>\n",
              "      <td>65.078818</td>\n",
              "      <td>3.113300</td>\n",
              "      <td>42.706404</td>\n",
              "      <td>4.649425</td>\n",
              "      <td>197.394089</td>\n",
              "    </tr>\n",
              "    <tr>\n",
              "      <th>std</th>\n",
              "      <td>2.768094</td>\n",
              "      <td>16.932425</td>\n",
              "      <td>1.690605</td>\n",
              "      <td>15.051137</td>\n",
              "      <td>2.321226</td>\n",
              "      <td>56.248267</td>\n",
              "    </tr>\n",
              "    <tr>\n",
              "      <th>min</th>\n",
              "      <td>2.000000</td>\n",
              "      <td>38.000000</td>\n",
              "      <td>1.000000</td>\n",
              "      <td>15.100000</td>\n",
              "      <td>1.000000</td>\n",
              "      <td>114.000000</td>\n",
              "    </tr>\n",
              "    <tr>\n",
              "      <th>25%</th>\n",
              "      <td>4.000000</td>\n",
              "      <td>49.000000</td>\n",
              "      <td>2.000000</td>\n",
              "      <td>29.700000</td>\n",
              "      <td>3.000000</td>\n",
              "      <td>148.250000</td>\n",
              "    </tr>\n",
              "    <tr>\n",
              "      <th>50%</th>\n",
              "      <td>6.000000</td>\n",
              "      <td>60.000000</td>\n",
              "      <td>3.000000</td>\n",
              "      <td>42.900000</td>\n",
              "      <td>5.000000</td>\n",
              "      <td>185.000000</td>\n",
              "    </tr>\n",
              "    <tr>\n",
              "      <th>75%</th>\n",
              "      <td>9.000000</td>\n",
              "      <td>81.000000</td>\n",
              "      <td>4.000000</td>\n",
              "      <td>55.600000</td>\n",
              "      <td>7.000000</td>\n",
              "      <td>253.000000</td>\n",
              "    </tr>\n",
              "    <tr>\n",
              "      <th>max</th>\n",
              "      <td>10.000000</td>\n",
              "      <td>90.000000</td>\n",
              "      <td>10.000000</td>\n",
              "      <td>72.200000</td>\n",
              "      <td>8.000000</td>\n",
              "      <td>301.000000</td>\n",
              "    </tr>\n",
              "  </tbody>\n",
              "</table>\n",
              "</div>"
            ],
            "text/plain": [
              "        Isolamento  Temperatura  ...  Tamanho_casa  Aquecimento_oleo\n",
              "count  1218.000000  1218.000000  ...   1218.000000       1218.000000\n",
              "mean      6.214286    65.078818  ...      4.649425        197.394089\n",
              "std       2.768094    16.932425  ...      2.321226         56.248267\n",
              "min       2.000000    38.000000  ...      1.000000        114.000000\n",
              "25%       4.000000    49.000000  ...      3.000000        148.250000\n",
              "50%       6.000000    60.000000  ...      5.000000        185.000000\n",
              "75%       9.000000    81.000000  ...      7.000000        253.000000\n",
              "max      10.000000    90.000000  ...      8.000000        301.000000\n",
              "\n",
              "[8 rows x 6 columns]"
            ]
          },
          "execution_count": 7,
          "metadata": {},
          "output_type": "execute_result"
        }
      ],
      "source": [
        "base.describe()"
      ]
    },
    {
      "cell_type": "code",
      "execution_count": null,
      "metadata": {
        "id": "mu7Rtzp6-gb0"
      },
      "outputs": [],
      "source": [
        "#Separação de dados para Treinamento e Teste\n",
        "X = base.iloc[:,0:5]\n",
        "y = base.iloc[:,5]\n",
        "\n",
        "X_train, X_test, y_train, y_test = train_test_split(X, y, random_state=42, test_size=0.15) "
      ]
    },
    {
      "cell_type": "markdown",
      "metadata": {
        "id": "Tbhef_s08s_l"
      },
      "source": [
        "# EXERCÍCIOS"
      ]
    },
    {
      "cell_type": "markdown",
      "metadata": {
        "id": "BFMNXViW8r5-"
      },
      "source": [
        "Execute a regressão linear. Baseado nos dados do modelo de Linear Regression interprete o significado dos pesos encontrado e responda às seguintes questões:\n",
        "\n",
        "\n"
      ]
    },
    {
      "cell_type": "code",
      "execution_count": null,
      "metadata": {
        "id": "rf3CNHfEC479"
      },
      "outputs": [],
      "source": [
        "lr = LinearRegression().fit(X_train, y_train)"
      ]
    },
    {
      "cell_type": "code",
      "execution_count": null,
      "metadata": {
        "colab": {
          "base_uri": "https://localhost:8080/"
        },
        "id": "FGG8jwIiROrP",
        "outputId": "ffcae64e-94aa-42e2-fc82-281b446e15ac"
      },
      "outputs": [
        {
          "name": "stdout",
          "output_type": "stream",
          "text": [
            "Regressão Linear (original)\n",
            "Coeficiente R^2 na base de treinamento: 0.82\n",
            "Número de atributos usados: 5\n",
            "Rank 5\n",
            "Descrição do modelo: \n",
            "w: [3.69, -0.88, -0.18, 1.91, 3.21] b: 135.43\n"
          ]
        }
      ],
      "source": [
        "print(\"Regressão Linear (original)\")\n",
        "print(f\"Coeficiente R^2 na base de treinamento:\",np.round(lr.score(X_train, y_train),2))\n",
        "print(f\"Número de atributos usados:\", np.sum(lr.coef_ != 0))\n",
        "print('Rank', lr.rank_)\n",
        "\n",
        "print(\"Descrição do modelo: \")\n",
        "s = [np.round(v,2) for v in lr.coef_]\n",
        "print(f\"w:\", s , f\"b:\", np.round(lr.intercept_,2))"
      ]
    },
    {
      "cell_type": "markdown",
      "metadata": {
        "id": "s3_OCv1shAu6"
      },
      "source": [
        "## 1. Quais os atributos mais relevantes?  "
      ]
    },
    {
      "cell_type": "markdown",
      "metadata": {
        "id": "lq3oDiEDTRv5"
      },
      "source": [
        "* Os atributos mais relevantes, considerando todos os pressupostos da regressão linear atendidos, são ordenados conforme o valore do coeficiente em modulo. Ele expressa o efeito marginal ou ganho singular no valor predito.\n",
        "\n",
        "* Todos os 5 atributos foram utilizados. A ordenação pelo grau de importância é a seguinte: Isolamento, Tamanho_casa, Idade_media, Temperatura e numero_ocupantes . Para uma análise posterior faz-se necessário verificar o signicância dos parâmetros; \n",
        "\n"
      ]
    },
    {
      "cell_type": "code",
      "execution_count": null,
      "metadata": {
        "colab": {
          "base_uri": "https://localhost:8080/"
        },
        "id": "vWFKEVZSCcun",
        "outputId": "073b0653-de8d-45bd-a95f-c379add8af07"
      },
      "outputs": [
        {
          "data": {
            "text/plain": [
              "[('Isolamento', 3.69),\n",
              " ('Temperatura', 0.88),\n",
              " ('Num_ocupantes', 0.18),\n",
              " ('Idade_media', 1.91),\n",
              " ('Tamanho_casa', 3.21)]"
            ]
          },
          "execution_count": 11,
          "metadata": {},
          "output_type": "execute_result"
        }
      ],
      "source": [
        "var_names = np.array(base.columns)\n",
        "list(zip(var_names ,np.abs(s)))"
      ]
    },
    {
      "cell_type": "markdown",
      "metadata": {
        "id": "jfiQ18DKhIX6"
      },
      "source": [
        "## 2.  São diretamente relacionados ou inversamente relacionados?"
      ]
    },
    {
      "cell_type": "markdown",
      "metadata": {
        "id": "l_67zAdMYEn2"
      },
      "source": [
        "* Análisando os sinais dos coeficientes as variáveis Isolamento, Idade_media e Tamanho_Casa são relacionados com o aquecimento_do_oleo. Já o num_ocupantes e Temperatura são inversamente relacionados com o aquecimento_do_oleo. Os atributos explicativos devem ser independentes entre si, para evitar colinearidade. No caso de existência, estas devem ser transformadas e o modelo reajustado. Não avancei nessas análises por causa de tempo professor.   \n",
        "\n"
      ]
    },
    {
      "cell_type": "markdown",
      "metadata": {
        "id": "YOfWqEkphWS8"
      },
      "source": [
        "## 3.   Qual atributo não foi significativo para a construção do modelo?"
      ]
    },
    {
      "cell_type": "markdown",
      "metadata": {
        "id": "X2Ja08BUdECb"
      },
      "source": [
        "* Para verificar a significância entre dos parâmetros eu teria que fazer todos os testes e transformações necessárias nos dados para atender os pressupostos da regressão linear e depois avaliar pelo teste t a significância de cada coeficiente ajustado. Provavelmente o comando rank_ faz algum teste de significância nos parâmetros e assumindo isso **TODOS OS COEFICIENTES FORAM SIGNIFICATIVOS.**"
      ]
    },
    {
      "cell_type": "markdown",
      "metadata": {
        "id": "z-Kl_4VEhnla"
      },
      "source": [
        "## 4.   Suponha que se deseja prever o estoque de óleo necessário para o próximo ano. Utilizando a planilha PREVISÃO, encontre quantos óleo será necessário para suprir todos os domicílios (probabilidade de venda)."
      ]
    },
    {
      "cell_type": "code",
      "execution_count": null,
      "metadata": {
        "colab": {
          "base_uri": "https://localhost:8080/",
          "height": 435
        },
        "id": "jLI-3Lru0eM3",
        "outputId": "9f616f70-d646-4af9-dd0e-b06093de4513"
      },
      "outputs": [
        {
          "name": "stdout",
          "output_type": "stream",
          "text": [
            "\n",
            " count    1218.000000\n",
            "mean       42.706404\n",
            "std        15.051137\n",
            "min        15.100000\n",
            "25%        29.700000\n",
            "50%        42.900000\n",
            "75%        55.600000\n",
            "max        72.200000\n",
            "Name: Idade_media, dtype: float64\n"
          ]
        },
        {
          "data": {
            "image/png": "[encoded data removed]",
            "text/plain": [
              "<Figure size 432x288 with 1 Axes>"
            ]
          },
          "metadata": {},
          "output_type": "display_data"
        }
      ],
      "source": [
        "# descritiva para a variável idade na base de ajuste do modelo\n",
        "print(f'\\n',base['Idade_media'].describe())\n",
        "base['Idade_media'].hist();"
      ]
    },
    {
      "cell_type": "code",
      "execution_count": null,
      "metadata": {
        "colab": {
          "base_uri": "https://localhost:8080/",
          "height": 435
        },
        "id": "iQipyOdE1A3X",
        "outputId": "9d1b5da7-8df5-4c0e-9cd8-36ad29832c7a"
      },
      "outputs": [
        {
          "name": "stdout",
          "output_type": "stream",
          "text": [
            "\n",
            " count    1335.000000\n",
            "mean       71.627940\n",
            "std         0.549627\n",
            "min        70.700000\n",
            "25%        71.200000\n",
            "50%        71.600000\n",
            "75%        72.100000\n",
            "max        72.500000\n",
            "Name: Idade_media, dtype: float64\n"
          ]
        },
        {
          "data": {
            "image/png": "[encoded data removed]",
            "text/plain": [
              "<Figure size 432x288 with 1 Axes>"
            ]
          },
          "metadata": {},
          "output_type": "display_data"
        }
      ],
      "source": [
        "# descritiva da variável idade na base de ajuste do modelo\n",
        "print(f'\\n',previsao['Idade_media'].describe())\n",
        "previsao['Idade_media'].hist();"
      ]
    },
    {
      "cell_type": "code",
      "execution_count": null,
      "metadata": {
        "colab": {
          "base_uri": "https://localhost:8080/",
          "height": 297
        },
        "id": "IuGW_U4hswXG",
        "outputId": "f3a85a51-6d71-4bca-8ceb-5af43566f923"
      },
      "outputs": [
        {
          "data": {
            "text/html": [
              "<div>\n",
              "<style scoped>\n",
              "    .dataframe tbody tr th:only-of-type {\n",
              "        vertical-align: middle;\n",
              "    }\n",
              "\n",
              "    .dataframe tbody tr th {\n",
              "        vertical-align: top;\n",
              "    }\n",
              "\n",
              "    .dataframe thead th {\n",
              "        text-align: right;\n",
              "    }\n",
              "</style>\n",
              "<table border=\"1\" class=\"dataframe\">\n",
              "  <thead>\n",
              "    <tr style=\"text-align: right;\">\n",
              "      <th></th>\n",
              "      <th>Isolamento</th>\n",
              "      <th>Temperatura</th>\n",
              "      <th>Num_ocupantes</th>\n",
              "      <th>Idade_media</th>\n",
              "      <th>Tamanho_casa</th>\n",
              "    </tr>\n",
              "  </thead>\n",
              "  <tbody>\n",
              "    <tr>\n",
              "      <th>count</th>\n",
              "      <td>1013.000000</td>\n",
              "      <td>1013.000000</td>\n",
              "      <td>1013.000000</td>\n",
              "      <td>1013.000000</td>\n",
              "      <td>1013.000000</td>\n",
              "    </tr>\n",
              "    <tr>\n",
              "      <th>mean</th>\n",
              "      <td>6.006910</td>\n",
              "      <td>64.619941</td>\n",
              "      <td>5.582428</td>\n",
              "      <td>71.398717</td>\n",
              "      <td>4.492596</td>\n",
              "    </tr>\n",
              "    <tr>\n",
              "      <th>std</th>\n",
              "      <td>2.613236</td>\n",
              "      <td>14.989676</td>\n",
              "      <td>2.775594</td>\n",
              "      <td>0.419637</td>\n",
              "      <td>2.392180</td>\n",
              "    </tr>\n",
              "    <tr>\n",
              "      <th>min</th>\n",
              "      <td>2.000000</td>\n",
              "      <td>38.000000</td>\n",
              "      <td>1.000000</td>\n",
              "      <td>70.700000</td>\n",
              "      <td>1.000000</td>\n",
              "    </tr>\n",
              "    <tr>\n",
              "      <th>25%</th>\n",
              "      <td>4.000000</td>\n",
              "      <td>52.000000</td>\n",
              "      <td>3.000000</td>\n",
              "      <td>71.000000</td>\n",
              "      <td>2.000000</td>\n",
              "    </tr>\n",
              "    <tr>\n",
              "      <th>50%</th>\n",
              "      <td>6.000000</td>\n",
              "      <td>65.000000</td>\n",
              "      <td>6.000000</td>\n",
              "      <td>71.400000</td>\n",
              "      <td>4.000000</td>\n",
              "    </tr>\n",
              "    <tr>\n",
              "      <th>75%</th>\n",
              "      <td>8.000000</td>\n",
              "      <td>78.000000</td>\n",
              "      <td>8.000000</td>\n",
              "      <td>71.700000</td>\n",
              "      <td>7.000000</td>\n",
              "    </tr>\n",
              "    <tr>\n",
              "      <th>max</th>\n",
              "      <td>10.000000</td>\n",
              "      <td>90.000000</td>\n",
              "      <td>10.000000</td>\n",
              "      <td>72.100000</td>\n",
              "      <td>8.000000</td>\n",
              "    </tr>\n",
              "  </tbody>\n",
              "</table>\n",
              "</div>"
            ],
            "text/plain": [
              "        Isolamento  Temperatura  Num_ocupantes  Idade_media  Tamanho_casa\n",
              "count  1013.000000  1013.000000    1013.000000  1013.000000   1013.000000\n",
              "mean      6.006910    64.619941       5.582428    71.398717      4.492596\n",
              "std       2.613236    14.989676       2.775594     0.419637      2.392180\n",
              "min       2.000000    38.000000       1.000000    70.700000      1.000000\n",
              "25%       4.000000    52.000000       3.000000    71.000000      2.000000\n",
              "50%       6.000000    65.000000       6.000000    71.400000      4.000000\n",
              "75%       8.000000    78.000000       8.000000    71.700000      7.000000\n",
              "max      10.000000    90.000000      10.000000    72.100000      8.000000"
            ]
          },
          "execution_count": 58,
          "metadata": {},
          "output_type": "execute_result"
        }
      ],
      "source": [
        "#Retirando os valores de previsão fora da faixa da base de dados de modelagem\n",
        "max=base['Idade_media'].max() \n",
        "previsao = previsao.loc[(previsao['Idade_media']< max)]\n",
        "previsao.describe()"
      ]
    },
    {
      "cell_type": "code",
      "execution_count": null,
      "metadata": {
        "id": "xYLRon5qaDru"
      },
      "outputs": [],
      "source": [
        "y_estimado = lr.predict(previsao)    # para o próximo ano"
      ]
    },
    {
      "cell_type": "code",
      "execution_count": null,
      "metadata": {
        "colab": {
          "base_uri": "https://localhost:8080/"
        },
        "id": "__TXgj6Tau96",
        "outputId": "ab5ee5cc-b6b1-4572-fc81-2265fbf2afc0"
      },
      "outputs": [
        {
          "name": "stdout",
          "output_type": "stream",
          "text": [
            "O quantidade total de óleo previsto para o ano que vem é : 253758.73\n"
          ]
        }
      ],
      "source": [
        "print(f'O quantidade total de óleo previsto para o ano que vem é :', np.round(y_estimado.sum(),2)) "
      ]
    }
  ],
  "metadata": {
    "colab": {
      "collapsed_sections": [],
      "name": "Regressão Linear (machineLearning).ipynb",
      "toc_visible": true,
      "provenance": []
    },
    "kernelspec": {
      "display_name": "Python 3",
      "name": "python3"
    },
    "language_info": {
      "name": "python"
    }
  },
  "nbformat": 4,
  "nbformat_minor": 0
}